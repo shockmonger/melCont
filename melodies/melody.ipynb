{
 "cells": [
  {
   "cell_type": "code",
   "execution_count": 21,
   "metadata": {
    "collapsed": false
   },
   "outputs": [
    {
     "ename": "SyntaxError",
     "evalue": "invalid syntax (<ipython-input-21-9009c19efbe4>, line 14)",
     "output_type": "error",
     "traceback": [
      "\u001b[1;36m  File \u001b[1;32m\"<ipython-input-21-9009c19efbe4>\"\u001b[1;36m, line \u001b[1;32m14\u001b[0m\n\u001b[1;33m    cwd=os.chdir(/nor)\u001b[0m\n\u001b[1;37m                 ^\u001b[0m\n\u001b[1;31mSyntaxError\u001b[0m\u001b[1;31m:\u001b[0m invalid syntax\n"
     ]
    }
   ],
   "source": [
    "import essentia\n",
    "import essentia.standard\n",
    "from pylab import plot, show, figure, imshow\n",
    "import matplotlib.pyplot as plt\n",
    "import sys, csv\n",
    "from essentia import *\n",
    "from essentia.standard import *\n",
    "from pylab import *\n",
    "from numpy import *\n",
    "import os\n",
    "from os import listdir\n",
    "from os.path import isfile, join\n",
    "cwd = os.getcwd()\n",
    "cwd=os.chdir('/home/tejaswik/Documents/MATLAB/SMC/melodies/nor')\n",
    "print(cwd)\n",
    "norfiles = [f for f in listdir('/home/tejaswik/Documents/MATLAB/SMC/melodies/nor') if isfile(join('/home/tejaswik/Documents/MATLAB/SMC/melodies/nor', f))]\n",
    "styles = ['vo','im','sc','jo'];\n",
    "print(norfiles)"
   ]
  },
  {
   "cell_type": "code",
   "execution_count": 6,
   "metadata": {
    "collapsed": false
   },
   "outputs": [],
   "source": [
    "try:\n",
    "    filename = sys.argv[1]\n",
    "except:\n",
    "    print \"usage\", sys.argv[0], \"<input-audiofile>\"\n",
    "    sys.exit()"
   ]
  },
  {
   "cell_type": "code",
   "execution_count": 7,
   "metadata": {
    "collapsed": true
   },
   "outputs": [],
   "source": [
    "hopSize = 128\n",
    "frameSize = 2048\n",
    "sampleRate = 44100\n",
    "guessUnvoiced = True\n",
    "run_predominant_melody = PitchMelodia(guessUnvoiced=guessUnvoiced,\n",
    "                                     frameSize=frameSize,\n",
    "                                     hopSize=hopSize);"
   ]
  },
  {
   "cell_type": "code",
   "execution_count": 14,
   "metadata": {
    "collapsed": false
   },
   "outputs": [
    {
     "ename": "SyntaxError",
     "evalue": "invalid syntax (<ipython-input-14-f0b1d9c1e327>, line 3)",
     "output_type": "error",
     "traceback": [
      "\u001b[1;36m  File \u001b[1;32m\"<ipython-input-14-f0b1d9c1e327>\"\u001b[1;36m, line \u001b[1;32m3\u001b[0m\n\u001b[1;33m    audio = MonoLoader(filename = '/melodies/nor/'norfile, sampleRate = sampleRate)()\u001b[0m\n\u001b[1;37m                                                        ^\u001b[0m\n\u001b[1;31mSyntaxError\u001b[0m\u001b[1;31m:\u001b[0m invalid syntax\n"
     ]
    }
   ],
   "source": [
    "#os.chdir('/home/tejaswik/Documents/MATLAB/SMC/melodies/nor')\n",
    "for norfile in norfiles:\n",
    "    audio = MonoLoader(filename = norfile, sampleRate = sampleRate)()\n",
    "    audio = EqualLoudness()(audio)\n",
    "    pitch, confidence = run_predominant_melody(audio)\n",
    "    fileout = FileOutput(filename = norfile)\n",
    "    pitch.pitch >> fileout"
   ]
  },
  {
   "cell_type": "code",
   "execution_count": null,
   "metadata": {
    "collapsed": true
   },
   "outputs": [],
   "source": []
  },
  {
   "cell_type": "code",
   "execution_count": null,
   "metadata": {
    "collapsed": true
   },
   "outputs": [],
   "source": []
  }
 ],
 "metadata": {
  "kernelspec": {
   "display_name": "Python 2",
   "language": "python",
   "name": "python2"
  },
  "language_info": {
   "codemirror_mode": {
    "name": "ipython",
    "version": 2
   },
   "file_extension": ".py",
   "mimetype": "text/x-python",
   "name": "python",
   "nbconvert_exporter": "python",
   "pygments_lexer": "ipython2",
   "version": "2.7.12"
  }
 },
 "nbformat": 4,
 "nbformat_minor": 0
}
