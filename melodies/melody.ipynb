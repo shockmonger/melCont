{
 "cells": [
  {
   "cell_type": "code",
   "execution_count": 2,
   "metadata": {
    "collapsed": false
   },
   "outputs": [
    {
     "name": "stdout",
     "output_type": "stream",
     "text": [
      " ['sc_2.mp3', 'im_4.mp3', 'vo_2.mp3', 'vo_1.mp3', 'jo_4.mp3', 'sc_1.mp3', 'sc_4.mp3', 'jo_2.mp3', 'im_2.mp3', 'jo_3.mp3', 'jo_1.mp3', 'vo_3.mp3', 'vo_4.mp3', 'im_3.mp3', 'sc_3.mp3', 'im_1.mp3']\n"
     ]
    }
   ],
   "source": [
    "import essentia\n",
    "import essentia.standard\n",
    "from pylab import plot, show, figure, imshow\n",
    "import matplotlib.pyplot as plt\n",
    "import sys, csv\n",
    "from essentia import *\n",
    "from essentia.standard import *\n",
    "from pylab import *\n",
    "from numpy import *\n",
    "\n",
    "from os import listdir\n",
    "from os.path import isfile, join\n",
    "\n",
    "norfiles = [f for f in listdir('/home/tejaswik/Documents/MATLAB/SMC/melodies/nor') if isfile(join('/home/tejaswik/Documents/MATLAB/SMC/melodies/nor', f))]\n",
    "styles = ['vo','im','sc','jo'];\n",
    "print(norfiles)"
   ]
  },
  {
   "cell_type": "code",
   "execution_count": 3,
   "metadata": {
    "collapsed": false
   },
   "outputs": [],
   "source": [
    "try:\n",
    "    filename = sys.argv[1]\n",
    "except:\n",
    "    print \"usage\", sys.argv[0], \"<input-audiofile>\"\n",
    "    sys.exit()"
   ]
  },
  {
   "cell_type": "code",
   "execution_count": 4,
   "metadata": {
    "collapsed": true
   },
   "outputs": [],
   "source": [
    "hopSize = 128\n",
    "frameSize = 2048\n",
    "sampleRate = 44100\n",
    "guessUnvoiced = True\n",
    "run_predominant_melody = PitchMelodia(guessUnvoiced=guessUnvoiced, \n",
    "                                     frameSize=frameSize,\n",
    "                                     hopSize=hopSize);"
   ]
  },
  {
   "cell_type": "code",
   "execution_count": null,
   "metadata": {
    "collapsed": true
   },
   "outputs": [],
   "source": []
  }
 ],
 "metadata": {
  "kernelspec": {
   "display_name": "Python 2",
   "language": "python",
   "name": "python2"
  },
  "language_info": {
   "codemirror_mode": {
    "name": "ipython",
    "version": 2
   },
   "file_extension": ".py",
   "mimetype": "text/x-python",
   "name": "python",
   "nbconvert_exporter": "python",
   "pygments_lexer": "ipython2",
   "version": "2.7.12"
  }
 },
 "nbformat": 4,
 "nbformat_minor": 0
}
